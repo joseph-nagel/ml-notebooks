{
 "cells": [
  {
   "cell_type": "markdown",
   "metadata": {},
   "source": [
    "# Harmonic oscillator\n",
    "\n",
    "This notebook demonstrates how to numerically integrate an **ordinary differential equation** (ODE) with `scipy.integrate.solve_ivp`. An undamped/damped harmonic oscillator serves as a well-known example. Surprisingly many real dynamical systems and their oscillatory phenomena can be understood — at least approximately — on the basis of such simple models."
   ]
  },
  {
   "cell_type": "code",
   "execution_count": null,
   "metadata": {},
   "outputs": [],
   "source": [
    "%matplotlib inline"
   ]
  },
  {
   "cell_type": "code",
   "execution_count": null,
   "metadata": {},
   "outputs": [],
   "source": [
    "import numpy as np\n",
    "import matplotlib.pyplot as plt\n",
    "from scipy.integrate import solve_ivp"
   ]
  },
  {
   "cell_type": "markdown",
   "metadata": {},
   "source": [
    "Let $x$ denote the displacement from equilibrium. The **simple harmonic oscillator** is then described by the equation $m \\ddot{x} = -k x$, where $m$ is the mass and $k$ is the spring constant. Similarly, a **damped harmonic oscillator** with a damping coefficient $c$ is modeled as $m \\ddot{x} = -k x - c \\dot{x}$. When the system is additionally subjected to an external time-dependent force $F$, one can represent the **driven and damped harmonic oscillator** by\n",
    "$$\n",
    "m \\frac{\\mathrm{d}^2 x}{\\mathrm{d} t^2}(t) = -k x - c \\frac{\\mathrm{d} x}{\\mathrm{d} t}(t) + F(t).\n",
    "$$\n",
    "\n",
    "This is often rewritten as $\\ddot{x} + 2 \\zeta \\omega_0 \\dot{x} + \\omega_0^2 x = F / m$. Here, $\\omega_0 = \\sqrt{k / m}$ is the undamped angular natural frequency. The so-called damping ratio $\\zeta = c \\left( 2 \\sqrt{m k} \\right)^{-1}$ determines whether the damped harmonic oscillator is overdamped ($\\zeta>1$), critically damped ($\\zeta=1$) or underdamped ($\\zeta<1$).\n",
    "\n",
    "Using the displacement $x_1 = x$ and the velocity $x_2 = \\dot{x}$ as state variables $\\boldsymbol{x} = (x_1, x_2)^\\top$, and assuming that only the first component is observed, the **state-space representation** of the mass-spring-damper system is\n",
    "$$\n",
    "\\underbrace{\\begin{pmatrix} \\dot{x}_1 \\\\ \\dot{x}_2 \\end{pmatrix}}_\\dot{\\boldsymbol{x}} =\n",
    "\\underbrace{\\begin{pmatrix} 0 & 1 \\\\ -k/m & -c/m \\end{pmatrix}}_\\boldsymbol{A}\n",
    "\\underbrace{\\begin{pmatrix} x_1 \\\\ x_2 \\end{pmatrix}}_\\boldsymbol{x} +\n",
    "\\underbrace{\\begin{pmatrix} 0 \\\\ 1/m \\end{pmatrix}}_\\boldsymbol{B}\n",
    "\\underbrace{F}_\\boldsymbol{u}, \\quad\n",
    "\\underbrace{x_1}_\\boldsymbol{y} =\n",
    "\\underbrace{\\begin{pmatrix} 1 & 0 \\end{pmatrix}}_\\boldsymbol{C}\n",
    "\\underbrace{\\begin{pmatrix} x_1 \\\\ x_2 \\end{pmatrix}}_\\boldsymbol{x}.\n",
    "$$\n",
    "\n",
    "The second-order ODE has been reduced to a first-order system. Below we define a function that constructs the state, input and output matrices $\\boldsymbol{A}, \\boldsymbol{B}, \\boldsymbol{C}$ based on the values of the physical parameters $m, k, c$. It can be optionally chosen which variables are observed."
   ]
  },
  {
   "cell_type": "code",
   "execution_count": null,
   "metadata": {},
   "outputs": [],
   "source": [
    "def assemble_matrices(m, k, c, obs_mode='displacement'):\n",
    "    '''\n",
    "    Assemble the matrices of the state-space formulation.\n",
    "\n",
    "    Parameters\n",
    "    ----------\n",
    "    m : float\n",
    "        Mass [kg].\n",
    "    k : float\n",
    "        Spring constant [N/m].\n",
    "    c : float\n",
    "        Damping coefficient [N*s/m].\n",
    "    obs_mode : {'displacement', 'velocity', 'both'}\n",
    "        Determines which outputs are observed.\n",
    "\n",
    "    '''\n",
    "\n",
    "    # state matrix\n",
    "    A = np.array([[0., 1.],\n",
    "                  [-k/m, -c/m]])\n",
    "\n",
    "    # input matrix\n",
    "    B = np.array([[0.],\n",
    "                  [1/m]])\n",
    "\n",
    "    # output matrix\n",
    "    if obs_mode == 'displacement':\n",
    "        C = np.array([[1, 0]])\n",
    "    elif obs_mode == 'velocity':\n",
    "        C = np.array([[0, 1]])\n",
    "    elif obs_mode == 'both':\n",
    "        C = np.array([[1, 0],\n",
    "                      [0, 1]])\n",
    "\n",
    "    return A, B, C"
   ]
  },
  {
   "cell_type": "markdown",
   "metadata": {},
   "source": [
    "We also need a function that calculates the derivatives $\\dot{\\boldsymbol{x}} = (\\dot{x}_1, \\dot{x}_2)^\\top = \\boldsymbol{A} \\boldsymbol{x} + \\boldsymbol{B} \\boldsymbol{u}$ of the state variables, i.e. the right-hand side of the coupled system of first-order ODEs that describes the time evolution. Note that no forcing is applied here."
   ]
  },
  {
   "cell_type": "code",
   "execution_count": null,
   "metadata": {},
   "outputs": [],
   "source": [
    "def dxdt(t, x, A):\n",
    "    '''\n",
    "    Compute the time derivatives of the two\n",
    "    state variables in the undriven system.\n",
    "\n",
    "    Parameters\n",
    "    ----------\n",
    "    t : float\n",
    "        Time [s].\n",
    "    x : array-like\n",
    "        State vector.\n",
    "    A : array-like\n",
    "        State matrix.\n",
    "\n",
    "    '''\n",
    "\n",
    "    return np.matmul(A, x)"
   ]
  },
  {
   "cell_type": "markdown",
   "metadata": {},
   "source": [
    "## Simple harmonic oscillator\n",
    "\n",
    "One can consider an undamped oscillator by setting the physical parameters to some hypothetical values and creating the corresponding state-space matrices with our function `assemble_matrices`."
   ]
  },
  {
   "cell_type": "code",
   "execution_count": null,
   "metadata": {},
   "outputs": [],
   "source": [
    "m = 1 # mass\n",
    "k = 1 # spring constant\n",
    "c = 0 # damping coefficient\n",
    "\n",
    "A, B, C = assemble_matrices(m, k, c) # state-space matrices"
   ]
  },
  {
   "cell_type": "markdown",
   "metadata": {},
   "source": [
    "An initial state and a time interval have to be specified, too. The initial value problem is numerically solved by `solve_ivp` for a number of time steps."
   ]
  },
  {
   "cell_type": "code",
   "execution_count": null,
   "metadata": {},
   "outputs": [],
   "source": [
    "initial_state = np.array([0.01, 0])\n",
    "time_interval = (0, 20)\n",
    "num_steps = 1001\n",
    "\n",
    "# time evolution\n",
    "res = solve_ivp(\n",
    "    dxdt, time_interval, initial_state, \n",
    "    t_eval=np.linspace(*time_interval, num_steps),\n",
    "    args=(A,)\n",
    ")\n",
    "\n",
    "# observations\n",
    "numerical_displacements = np.matmul(C, res.y) "
   ]
  },
  {
   "cell_type": "markdown",
   "metadata": {},
   "source": [
    "The displacement observations were extracted in the last line. Of course, one can analytically solve that classical problem as follows."
   ]
  },
  {
   "cell_type": "code",
   "execution_count": null,
   "metadata": {},
   "outputs": [],
   "source": [
    "nat_freq = np.sqrt(k/m)\n",
    "analytical_displacements = initial_state[0] * np.cos(nat_freq * res.t) \\\n",
    "                         + initial_state[1] / nat_freq * np.sin(nat_freq * res.t)"
   ]
  },
  {
   "cell_type": "markdown",
   "metadata": {},
   "source": [
    "Let us now compare the analytical and numerical solution. Isn't that beautiful?"
   ]
  },
  {
   "cell_type": "code",
   "execution_count": null,
   "metadata": {},
   "outputs": [],
   "source": [
    "fig, ax = plt.subplots(figsize=(6, 4))\n",
    "ax.plot(res.t, analytical_displacements*100, label='analytical')\n",
    "ax.plot(res.t, numerical_displacements[0,:]*100, linestyle='--', label='numerical')\n",
    "ax.set(xlabel='time [s]', ylabel='displacement [cm]', xlim=time_interval)\n",
    "ax.set_title('Simple harmonic oscillator')\n",
    "ax.legend()\n",
    "ax.grid(visible=True, which='both', color='lightgray', linestyle='-')\n",
    "ax.set_axisbelow(True)\n",
    "fig.tight_layout()"
   ]
  },
  {
   "cell_type": "markdown",
   "metadata": {},
   "source": [
    "## Damped harmonic oscillator\n",
    "\n",
    "For the damped oscillator, three different sets of matrices represent the underdamped, critically damped and overdamped case, respectively."
   ]
  },
  {
   "cell_type": "code",
   "execution_count": null,
   "metadata": {},
   "outputs": [],
   "source": [
    "A_under, B_under, C_under = assemble_matrices(m=1, k=1, c=0.5) # underdamped\n",
    "A_critic, B_critic, C_critic = assemble_matrices(m=1, k=1, c=1) # critically damped\n",
    "A_over, B_over, C_over = assemble_matrices(m=1, k=1, c=2) # overdamped"
   ]
  },
  {
   "cell_type": "markdown",
   "metadata": {},
   "source": [
    "As before, the equations are numerically integrated, after which the outputs are computed."
   ]
  },
  {
   "cell_type": "code",
   "execution_count": null,
   "metadata": {},
   "outputs": [],
   "source": [
    "initial_state = np.array([0.01, 0])\n",
    "time_interval = (0, 20)\n",
    "num_steps = 1001\n",
    "\n",
    "# time evolution\n",
    "res_under = solve_ivp(\n",
    "    dxdt, time_interval, initial_state,\n",
    "    t_eval=np.linspace(*time_interval, num_steps),\n",
    "    args=(A_under,)\n",
    ")\n",
    "\n",
    "res_critic = solve_ivp(\n",
    "    dxdt, time_interval, initial_state,\n",
    "    t_eval=np.linspace(*time_interval, num_steps),\n",
    "    args=(A_critic,)\n",
    ")\n",
    "\n",
    "res_over = solve_ivp(\n",
    "    dxdt, time_interval, initial_state,\n",
    "    t_eval=np.linspace(*time_interval, num_steps),\n",
    "    args=(A_over,)\n",
    ")\n",
    "\n",
    "# observations\n",
    "y_under = np.matmul(C, res_under.y)\n",
    "y_critic = np.matmul(C, res_critic.y)\n",
    "y_over = np.matmul(C, res_over.y)"
   ]
  },
  {
   "cell_type": "markdown",
   "metadata": {},
   "source": [
    "Finally, we plot the behaviors of the three different scenarios."
   ]
  },
  {
   "cell_type": "code",
   "execution_count": null,
   "metadata": {},
   "outputs": [],
   "source": [
    "fig, ax = plt.subplots(figsize=(6, 4))\n",
    "ax.plot(res_under.t, y_under[0,:]*100, label='underdamped')\n",
    "ax.plot(res_critic.t, y_critic[0,:]*100, label='critically damped')\n",
    "ax.plot(res_over.t, y_over[0,:]*100, label='overdamped')\n",
    "ax.set(xlabel='time [s]', ylabel='displacement [cm]', xlim=time_interval)\n",
    "ax.set_title('Damped harmonic oscillator')\n",
    "ax.legend()\n",
    "ax.grid(visible=True, which='both', color='lightgray', linestyle='-')\n",
    "ax.set_axisbelow(True)\n",
    "fig.tight_layout()"
   ]
  },
  {
   "cell_type": "markdown",
   "metadata": {},
   "source": [
    "The driven oscillator, e.g. with an external sinusoidal force, can be analogously simulated. One simply has to add a forcing term to the function `dxdt` that implements the derivatives. Resonance frequencies can be fun!"
   ]
  }
 ],
 "metadata": {
  "kernelspec": {
   "display_name": "Python 3 (ipykernel)",
   "language": "python",
   "name": "python3"
  },
  "language_info": {
   "codemirror_mode": {
    "name": "ipython",
    "version": 3
   },
   "file_extension": ".py",
   "mimetype": "text/x-python",
   "name": "python",
   "nbconvert_exporter": "python",
   "pygments_lexer": "ipython3",
   "version": "3.9.18"
  }
 },
 "nbformat": 4,
 "nbformat_minor": 4
}

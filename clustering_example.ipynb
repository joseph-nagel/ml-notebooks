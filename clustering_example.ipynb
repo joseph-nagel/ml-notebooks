{
 "cells": [
  {
   "cell_type": "markdown",
   "id": "activated-chocolate",
   "metadata": {},
   "source": [
    "# Clustering with $k$-means and Gaussian mixtures"
   ]
  },
  {
   "cell_type": "code",
   "execution_count": null,
   "id": "threaded-greensboro",
   "metadata": {},
   "outputs": [],
   "source": [
    "%matplotlib inline"
   ]
  },
  {
   "cell_type": "code",
   "execution_count": null,
   "id": "worst-workshop",
   "metadata": {},
   "outputs": [],
   "source": [
    "import numpy as np\n",
    "import matplotlib.pyplot as plt\n",
    "from sklearn.datasets import make_blobs\n",
    "from sklearn.preprocessing import StandardScaler\n",
    "from sklearn.cluster import KMeans\n",
    "from sklearn.mixture import GaussianMixture\n",
    "from sklearn.metrics import silhouette_score"
   ]
  },
  {
   "cell_type": "code",
   "execution_count": null,
   "id": "e3222bbc-7f2b-4740-9ff1-bb0de357d0e5",
   "metadata": {},
   "outputs": [],
   "source": [
    "np.random.seed(78787878)"
   ]
  },
  {
   "cell_type": "markdown",
   "id": "rolled-negotiation",
   "metadata": {},
   "source": [
    "## Data generation"
   ]
  },
  {
   "cell_type": "code",
   "execution_count": null,
   "id": "intensive-thomson",
   "metadata": {},
   "outputs": [],
   "source": [
    "num_clusters = 3\n",
    "num_samples = 200\n",
    "\n",
    "X_unscaled, y = make_blobs(\n",
    "    n_samples=num_samples,\n",
    "    n_features=2,\n",
    "    centers=num_clusters\n",
    ")\n",
    "\n",
    "print('Feature shape:', X_unscaled.shape)\n",
    "print('Target shape:', y.shape)"
   ]
  },
  {
   "cell_type": "code",
   "execution_count": null,
   "id": "cordless-sphere",
   "metadata": {},
   "outputs": [],
   "source": [
    "standard_scaler = StandardScaler()\n",
    "X = standard_scaler.fit_transform(X_unscaled)"
   ]
  },
  {
   "cell_type": "code",
   "execution_count": null,
   "id": "transparent-motivation",
   "metadata": {},
   "outputs": [],
   "source": [
    "fig, ax = plt.subplots(figsize=(5, 4))\n",
    "ax.scatter(X[:,0], X[:,1], c=y, alpha=0.5, edgecolors='none')\n",
    "ax.set_title('Generated data')\n",
    "ax.set_aspect('equal', adjustable='datalim')\n",
    "ax.set(xlabel='$x_1$', ylabel='$x_2$')\n",
    "ax.grid(visible=True, which='both', color='lightgray', linestyle='-')\n",
    "ax.set_axisbelow(True)"
   ]
  },
  {
   "cell_type": "markdown",
   "id": "accomplished-casino",
   "metadata": {},
   "source": [
    "## $k$-means clustering"
   ]
  },
  {
   "cell_type": "code",
   "execution_count": null,
   "id": "helpful-salem",
   "metadata": {},
   "outputs": [],
   "source": [
    "max_components = 10\n",
    "\n",
    "avg_silhouette_scores = []\n",
    "for num_components in range(2, max_components+1):\n",
    "    km_model = KMeans(n_clusters=num_components, n_init=10)\n",
    "    km_model.fit(X)\n",
    "    y_pred = km_model.predict(X)\n",
    "    avg_silhouette_scores.append(silhouette_score(X, y_pred))"
   ]
  },
  {
   "cell_type": "code",
   "execution_count": null,
   "id": "scheduled-correspondence",
   "metadata": {},
   "outputs": [],
   "source": [
    "fig, ax = plt.subplots(figsize=(6, 4))\n",
    "ax.plot(np.arange(2, max_components+1), avg_silhouette_scores, marker='o', clip_on=False, zorder=3)\n",
    "ax.set_title('Model selection via silhouette scores')\n",
    "ax.set(xlabel='no. of components', ylabel='average silhouette score', xlim=(0, max_components))\n",
    "ax.grid(visible=True, which='both', color='lightgray', linestyle='-')\n",
    "ax.set_axisbelow(True)"
   ]
  },
  {
   "cell_type": "code",
   "execution_count": null,
   "id": "regional-absence",
   "metadata": {},
   "outputs": [],
   "source": [
    "num_components = np.argmax(avg_silhouette_scores) + 2\n",
    "print('The model with {} clusters has been selected.'.format(num_components))"
   ]
  },
  {
   "cell_type": "code",
   "execution_count": null,
   "id": "simple-characteristic",
   "metadata": {},
   "outputs": [],
   "source": [
    "km_model = KMeans(n_clusters=num_components, n_init=10)\n",
    "y_pred = km_model.fit_predict(X)"
   ]
  },
  {
   "cell_type": "code",
   "execution_count": null,
   "id": "paperback-shape",
   "metadata": {},
   "outputs": [],
   "source": [
    "fig, ax = plt.subplots(figsize=(5, 4))\n",
    "ax.scatter(X[:,0], X[:,1], c=y_pred, cmap='viridis', alpha=0.5, edgecolors='none', zorder=2)\n",
    "ax.scatter(km_model.cluster_centers_[:,0], km_model.cluster_centers_[:,1], s=100, c='k', marker='x', zorder=3)\n",
    "ax.set_aspect('equal', adjustable='datalim')\n",
    "ax.apply_aspect()\n",
    "X_values, Y_values = np.meshgrid(np.linspace(*ax.get_xlim(), 1001), np.linspace(*ax.get_ylim(), 1001))\n",
    "Z_values = km_model.predict(np.stack((X_values.ravel(), Y_values.ravel()), axis=1)).reshape(X_values.shape)\n",
    "ax.contourf(X_values, Y_values, Z_values, cmap='viridis', alpha=0.1, zorder=1)\n",
    "ax.set_title('$k$-means clustering model')\n",
    "ax.set(xlabel='$x_1$', ylabel='$x_2$')\n",
    "ax.grid(visible=True, which='both', color='lightgray', linestyle='-')\n",
    "ax.set_axisbelow(True)"
   ]
  },
  {
   "cell_type": "markdown",
   "id": "twenty-congo",
   "metadata": {},
   "source": [
    "## Gaussian mixture fitting"
   ]
  },
  {
   "cell_type": "code",
   "execution_count": null,
   "id": "secure-stomach",
   "metadata": {},
   "outputs": [],
   "source": [
    "max_components = 10\n",
    "\n",
    "aics = []\n",
    "bics = []\n",
    "for num_components in range(1, max_components+1):\n",
    "    gm_model = GaussianMixture(n_components=num_components)\n",
    "    gm_model.fit(X)\n",
    "    aics.append(gm_model.aic(X))\n",
    "    bics.append(gm_model.bic(X))"
   ]
  },
  {
   "cell_type": "code",
   "execution_count": null,
   "id": "informative-repair",
   "metadata": {},
   "outputs": [],
   "source": [
    "fig, ax = plt.subplots(figsize=(6, 4))\n",
    "ax.plot(np.arange(1, max_components+1), aics, marker='o', label='AIC', clip_on=False, zorder=3)\n",
    "ax.plot(np.arange(1, max_components+1), bics, marker='o', label='BIC', clip_on=False, zorder=3)\n",
    "ax.set_title('Model selection via information criteria')\n",
    "ax.set(xlabel='no. of components', ylabel='value', xlim=(0, max_components))\n",
    "ax.legend()\n",
    "ax.grid(visible=True, which='both', color='lightgray', linestyle='-')\n",
    "ax.set_axisbelow(True)"
   ]
  },
  {
   "cell_type": "code",
   "execution_count": null,
   "id": "economic-dividend",
   "metadata": {},
   "outputs": [],
   "source": [
    "num_components = np.argmin(bics) + 1\n",
    "print('The model with {} components has been selected.'.format(num_components))"
   ]
  },
  {
   "cell_type": "code",
   "execution_count": null,
   "id": "banned-perception",
   "metadata": {},
   "outputs": [],
   "source": [
    "gm_model = GaussianMixture(n_components=num_components)\n",
    "y_pred = gm_model.fit_predict(X)"
   ]
  },
  {
   "cell_type": "code",
   "execution_count": null,
   "id": "careful-playing",
   "metadata": {},
   "outputs": [],
   "source": [
    "fig, ax = plt.subplots(figsize=(5, 4))\n",
    "ax.scatter(X[:,0], X[:,1], c=y_pred, cmap='viridis', alpha=0.5, edgecolors='none', zorder=2)\n",
    "ax.set_aspect('equal', adjustable='datalim')\n",
    "ax.apply_aspect()\n",
    "X_values, Y_values = np.meshgrid(np.linspace(*ax.get_xlim(), 1001), np.linspace(*ax.get_ylim(), 1001))\n",
    "Z_values = gm_model.score_samples(np.stack((X_values.ravel(), Y_values.ravel()), axis=1)).reshape(X_values.shape)\n",
    "ax.contourf(X_values, Y_values, np.exp(Z_values), levels=10, cmap='Greys', alpha=0.7, zorder=1)\n",
    "ax.set_title('Gaussian mixture model')\n",
    "ax.set(xlabel='$x_1$', ylabel='$x_2$', )\n",
    "ax.grid(visible=True, which='both', color='lightgray', linestyle='-')\n",
    "ax.set_axisbelow(True)"
   ]
  }
 ],
 "metadata": {
  "kernelspec": {
   "display_name": "Python 3 (ipykernel)",
   "language": "python",
   "name": "python3"
  },
  "language_info": {
   "codemirror_mode": {
    "name": "ipython",
    "version": 3
   },
   "file_extension": ".py",
   "mimetype": "text/x-python",
   "name": "python",
   "nbconvert_exporter": "python",
   "pygments_lexer": "ipython3",
   "version": "3.9.18"
  }
 },
 "nbformat": 4,
 "nbformat_minor": 5
}

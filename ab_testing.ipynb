{
 "cells": [
  {
   "cell_type": "markdown",
   "metadata": {},
   "source": [
    "# A/B testing of a binomial proportion"
   ]
  },
  {
   "cell_type": "code",
   "execution_count": null,
   "metadata": {},
   "outputs": [],
   "source": [
    "%matplotlib inline"
   ]
  },
  {
   "cell_type": "code",
   "execution_count": null,
   "metadata": {},
   "outputs": [],
   "source": [
    "import numpy as np\n",
    "import matplotlib.pyplot as plt\n",
    "from scipy import stats\n",
    "from scipy.special import btdtri"
   ]
  },
  {
   "cell_type": "code",
   "execution_count": null,
   "metadata": {},
   "outputs": [],
   "source": [
    "np.random.seed(12345)"
   ]
  },
  {
   "cell_type": "markdown",
   "metadata": {},
   "source": [
    "## Data generation"
   ]
  },
  {
   "cell_type": "code",
   "execution_count": null,
   "metadata": {},
   "outputs": [],
   "source": [
    "# parameters\n",
    "total_a = 1000\n",
    "total_b = 700\n",
    "rate_a = 0.03\n",
    "rate_b = 0.05"
   ]
  },
  {
   "cell_type": "code",
   "execution_count": null,
   "metadata": {},
   "outputs": [],
   "source": [
    "# binomial distributions\n",
    "binom_a = stats.binom(n=total_a, p=rate_a)\n",
    "binom_b = stats.binom(n=total_b, p=rate_b)"
   ]
  },
  {
   "cell_type": "code",
   "execution_count": null,
   "metadata": {},
   "outputs": [],
   "source": [
    "# plot: binomial distributions\n",
    "x_values = np.arange(0, 81)\n",
    "prob_a = binom_a.pmf(x_values)\n",
    "prob_b = binom_b.pmf(x_values)\n",
    "\n",
    "fig, ax = plt.subplots(figsize=(6, 4.2))\n",
    "ax.bar(x_values, prob_a, color=plt.cm.Dark2(1), alpha=0.7,\n",
    "       label='A ($n$={}, $p$={:.3f})'.format(total_a, rate_a))\n",
    "ax.bar(x_values, prob_b, color=plt.cm.Dark2(2), alpha=0.7,\n",
    "       label='B ($n$={}, $p$={:.3f})'.format(total_b, rate_b))\n",
    "ax.set_title('Binomial distributions')\n",
    "ax.set(xlabel='number of successes $k$', ylabel='probability', xlim=(0, 80))\n",
    "ax.legend()\n",
    "ax.grid(visible=True, which='both', color='lightgray', linestyle='-')\n",
    "ax.set_axisbelow(True)\n",
    "fig.tight_layout()"
   ]
  },
  {
   "cell_type": "code",
   "execution_count": null,
   "metadata": {},
   "outputs": [],
   "source": [
    "# plot: Gaussian approximations\n",
    "mu_a = total_a * rate_a\n",
    "mu_b = total_b * rate_b\n",
    "sigma_a = np.sqrt(total_a * rate_a * (1-rate_a))\n",
    "sigma_b = np.sqrt(total_b * rate_b * (1-rate_b))\n",
    "\n",
    "x_values = np.linspace(0, 80, 1001)\n",
    "prob_a = stats.norm(loc=mu_a, scale=sigma_a).pdf(x_values)\n",
    "prob_b = stats.norm(loc=mu_b, scale=sigma_b).pdf(x_values)\n",
    "\n",
    "fig, ax = plt.subplots(figsize=(6, 4.2))\n",
    "ax.plot(x_values, prob_a, color=plt.cm.Dark2(1),\n",
    "        label='A ($\\mu$={:.1f}, $\\sigma$={:.2f})'.format(mu_a, sigma_a))\n",
    "ax.plot(x_values, prob_b, color=plt.cm.Dark2(2),\n",
    "        label='B ($\\mu$={:.1f}, $\\sigma$={:.2f})'.format(mu_b, sigma_b))\n",
    "ax.set_title('Gaussian approximations')\n",
    "ax.set(xlabel='number of successes $k$', ylabel='probability density', xlim=(0, 80))\n",
    "ax.set_ylim(bottom=0)\n",
    "ax.legend()\n",
    "ax.grid(visible=True, which='both', color='lightgray', linestyle='-')\n",
    "ax.set_axisbelow(True)\n",
    "fig.tight_layout()"
   ]
  },
  {
   "cell_type": "code",
   "execution_count": null,
   "metadata": {},
   "outputs": [],
   "source": [
    "# binomial samples\n",
    "# successes_a = binom_a.rvs()\n",
    "# successes_b = binom_b.rvs()\n",
    "\n",
    "# print('A (n={}, p={}): k={} successes'.format(total_a, rate_a, successes_a))\n",
    "# print('B (n={}, p={}): k={} successes'.format(total_b, rate_b, successes_b))"
   ]
  },
  {
   "cell_type": "code",
   "execution_count": null,
   "metadata": {},
   "outputs": [],
   "source": [
    "# Bernoulli samples\n",
    "samples_a = stats.bernoulli(p=rate_a).rvs(size=total_a)\n",
    "samples_b = stats.bernoulli(p=rate_b).rvs(size=total_b)\n",
    "\n",
    "successes_a = samples_a.sum()\n",
    "successes_b = samples_b.sum()\n",
    "\n",
    "print('A (n={}, p={}): k={} successes'.format(total_a, rate_a, successes_a))\n",
    "print('B (n={}, p={}): k={} successes'.format(total_b, rate_b, successes_b))"
   ]
  },
  {
   "cell_type": "markdown",
   "metadata": {},
   "source": [
    "## Frequentist parameter estimation"
   ]
  },
  {
   "cell_type": "code",
   "execution_count": null,
   "metadata": {},
   "outputs": [],
   "source": [
    "# binomial proportion estimates and their standard deviations\n",
    "mu_rate_a_hat = successes_a / total_a\n",
    "mu_rate_b_hat = successes_b / total_b\n",
    "\n",
    "sigma_rate_a_hat = np.sqrt(mu_rate_a_hat * (1 - mu_rate_a_hat) / total_a)\n",
    "sigma_rate_b_hat = np.sqrt(mu_rate_b_hat * (1 - mu_rate_b_hat) / total_b)\n",
    "\n",
    "print('Estimate of the proportion pA: {:.4f}'.format(mu_rate_a_hat))\n",
    "print('95% confidence interval of pA: [{:.4f}, {:.4f}]'.format(\n",
    "    mu_rate_a_hat - 1.96*sigma_rate_a_hat,\n",
    "    mu_rate_a_hat + 1.96*sigma_rate_a_hat\n",
    "))\n",
    "\n",
    "print('\\nEstimate of the proportion pB: {:.4f}'.format(mu_rate_b_hat))\n",
    "print('95% confidence interval of pB: [{:.4f}, {:.4f}]'.format(\n",
    "    mu_rate_b_hat - 1.96*sigma_rate_b_hat,\n",
    "    mu_rate_b_hat + 1.96*sigma_rate_b_hat\n",
    "))"
   ]
  },
  {
   "cell_type": "code",
   "execution_count": null,
   "metadata": {},
   "outputs": [],
   "source": [
    "# plot: success rate estimate sampling distributions\n",
    "x_values = np.linspace(0, 0.1, 1001)\n",
    "prob_a = stats.norm(loc=mu_rate_a_hat, scale=sigma_rate_a_hat).pdf(x_values)\n",
    "prob_b = stats.norm(loc=mu_rate_b_hat, scale=sigma_rate_b_hat).pdf(x_values)\n",
    "\n",
    "fig, ax = plt.subplots(figsize=(6, 4.2))\n",
    "ax.plot(x_values, prob_a, color=plt.cm.Dark2(1), label='$\\hat{p}_A$')\n",
    "ax.plot(x_values, prob_b, color=plt.cm.Dark2(2), label='$\\hat{p}_B$')\n",
    "ax.set_title('Approximately Gaussian sampling distributions')\n",
    "ax.set(xlabel='success rate', ylabel='probability density', xlim=(0, 0.1))\n",
    "ax.set_ylim(bottom=0)\n",
    "ax.legend()\n",
    "ax.grid(visible=True, which='both', color='lightgray', linestyle='-')\n",
    "ax.set_axisbelow(True)\n",
    "fig.tight_layout()"
   ]
  },
  {
   "cell_type": "code",
   "execution_count": null,
   "metadata": {},
   "outputs": [],
   "source": [
    "# estimate of the difference\n",
    "mu_diff_hat = mu_rate_b_hat - mu_rate_a_hat\n",
    "sigma_diff_hat = np.sqrt(sigma_rate_b_hat**2 + sigma_rate_a_hat**2)\n",
    "\n",
    "print('Estimate of the difference pB-pA: {:.4f}'.format(mu_diff_hat))\n",
    "print('95% confidence interval of pB-pA: [{:.4f}, {:.4f}]'.format(\n",
    "    mu_diff_hat - 1.96*sigma_diff_hat,\n",
    "    mu_diff_hat + 1.96*sigma_diff_hat\n",
    "))"
   ]
  },
  {
   "cell_type": "code",
   "execution_count": null,
   "metadata": {},
   "outputs": [],
   "source": [
    "# plot: difference estimate sampling distribution\n",
    "x_values = np.linspace(-0.03, 0.07, 1001)\n",
    "prob = stats.norm(loc=mu_diff_hat, scale=sigma_diff_hat).pdf(x_values)\n",
    "\n",
    "fig, ax = plt.subplots(figsize=(6, 4.2))\n",
    "line_distribution = ax.plot(x_values, prob, color=plt.cm.Dark2(7))\n",
    "point_estimate = ax.scatter(mu_diff_hat, 0, s=25, marker='o', color='k', clip_on=False)\n",
    "line_confidence = ax.plot(\n",
    "    [mu_diff_hat-1.96*sigma_diff_hat, mu_diff_hat+1.96*sigma_diff_hat], [0,0],\n",
    "    linewidth=2, marker='|', markersize=5, markeredgewidth=2, color='k', clip_on=False\n",
    ")\n",
    "ax.set_title('Approximately Gaussian sampling distribution')\n",
    "ax.set(xlabel='success rate', ylabel='probability density', xlim=(-0.03, 0.07))\n",
    "ax.set_ylim(bottom=0)\n",
    "ax.legend(\n",
    "    (line_distribution[0], point_estimate, line_confidence[0]),\n",
    "    ('$\\hat{p}_B - \\hat{p}_A$', 'point estimate', '95% confidence interval')\n",
    ")\n",
    "ax.grid(visible=True, which='both', color='lightgray', linestyle='-')\n",
    "ax.set_axisbelow(True)\n",
    "fig.tight_layout()"
   ]
  },
  {
   "cell_type": "markdown",
   "metadata": {},
   "source": [
    "## Frequentist A/B testing"
   ]
  },
  {
   "cell_type": "code",
   "execution_count": null,
   "metadata": {},
   "outputs": [],
   "source": [
    "# null and alternative hypothesis (two-sample, one-sided)\n",
    "alpha = 0.05\n",
    "\n",
    "print('H0: pB-pA (<)= 0')\n",
    "print('H1: pB-pA > 0')\n",
    "print('Pre-chosen significance level: {:.2f}'.format(alpha))"
   ]
  },
  {
   "cell_type": "code",
   "execution_count": null,
   "metadata": {},
   "outputs": [],
   "source": [
    "# z-score and p-value\n",
    "z_score = mu_diff_hat / sigma_diff_hat\n",
    "p_value = 1 - stats.norm(loc=0, scale=1).cdf(z_score)\n",
    "\n",
    "print('z-score: {:.4f}'.format(z_score))\n",
    "print('p-value: {:.4f}'.format(p_value))\n",
    "\n",
    "if p_value <= alpha:\n",
    "    print('We reject the null hypothesis, in favor of the alternative.')\n",
    "else:\n",
    "    print('We fail to reject the null hypothesis, it is \"accepted\".')"
   ]
  },
  {
   "cell_type": "code",
   "execution_count": null,
   "metadata": {},
   "outputs": [],
   "source": [
    "# plot: z-score and p-value\n",
    "x_values = np.linspace(-4, 4, 1001)\n",
    "y_values = stats.norm().pdf(x_values)\n",
    "\n",
    "fig, ax = plt.subplots(figsize=(6, 4.2))\n",
    "ax.plot(x_values, y_values, color=plt.cm.Dark2(7), zorder=3)\n",
    "ax.axvline(z_score, linestyle='--', color='k', zorder=2, label='$z$-score')\n",
    "ax.fill_between(\n",
    "    x_values[x_values>=z_score], y_values[x_values>=z_score],\n",
    "    color=plt.cm.Dark2(7), alpha=0.5, zorder=1, label='$p$-value'\n",
    ")\n",
    "ax.set_title('Standard normal of the test statistic under $H0$')\n",
    "ax.set(xlabel='$z$', ylabel='probability density', xlim=(-4, 4))\n",
    "ax.set_ylim(bottom=0)\n",
    "ax.legend()\n",
    "ax.grid(visible=True, which='both', color='lightgray', linestyle='-')\n",
    "ax.set_axisbelow(True)\n",
    "fig.tight_layout()"
   ]
  },
  {
   "cell_type": "markdown",
   "metadata": {},
   "source": [
    "## Bayesian parameter estimation"
   ]
  },
  {
   "cell_type": "code",
   "execution_count": null,
   "metadata": {},
   "outputs": [],
   "source": [
    "# prior distributions\n",
    "prior_alpha = 1\n",
    "prior_beta = 1\n",
    "\n",
    "prior = stats.beta(a=prior_alpha, b=prior_beta)"
   ]
  },
  {
   "cell_type": "code",
   "execution_count": null,
   "metadata": {},
   "outputs": [],
   "source": [
    "# posterior distributions\n",
    "post_a_alpha = prior_alpha + successes_a\n",
    "post_a_beta = prior_beta + total_a - successes_a\n",
    "\n",
    "post_b_alpha = prior_alpha + successes_b\n",
    "post_b_beta = prior_beta + total_b - successes_b\n",
    "\n",
    "post_a = stats.beta(a=post_a_alpha, b=post_a_beta)\n",
    "post_b = stats.beta(a=post_b_alpha, b=post_b_beta)"
   ]
  },
  {
   "cell_type": "code",
   "execution_count": null,
   "metadata": {},
   "outputs": [],
   "source": [
    "# posterior summaries\n",
    "post_mode_a = (post_a_alpha - 1) / (post_a_alpha + post_a_beta - 2)\n",
    "post_mode_b = (post_b_alpha - 1) / (post_b_alpha + post_b_beta - 2)\n",
    "\n",
    "post_credint_a = [\n",
    "    btdtri(post_a_alpha, post_a_beta, 0.05),\n",
    "    btdtri(post_a_alpha, post_a_beta, 0.95)\n",
    "]\n",
    "post_credint_b = [\n",
    "    btdtri(post_b_alpha, post_b_beta, 0.05),\n",
    "    btdtri(post_b_alpha, post_b_beta, 0.95)\n",
    "]\n",
    "\n",
    "print('Posterior mode of pA: {:.4f}'.format(post_mode_a))\n",
    "print('Posterior mode of pB: {:.4f}'.format(post_mode_b))\n",
    "\n",
    "print('\\nPosterior mean of pA: {:.4f}'.format(post_a.mean()))\n",
    "print('Posterior mean of pB: {:.4f}'.format(post_b.mean()))\n",
    "\n",
    "print('\\n90% credible interval of pA: [{:.4f}, {:.4f}]'.format(*post_credint_a))\n",
    "print('90% credible interval of pB: [{:.4f}, {:.4f}]'.format(*post_credint_b))"
   ]
  },
  {
   "cell_type": "code",
   "execution_count": null,
   "metadata": {},
   "outputs": [],
   "source": [
    "# plot: posterior distributions (1D)\n",
    "x_values = np.linspace(0, 0.1, 1001)\n",
    "\n",
    "fig, ax = plt.subplots(figsize=(6, 4.2))\n",
    "ax.plot(x_values, prior.pdf(x_values), color=plt.cm.Dark2(0), label='prior of $p_A$ and $p_B$')\n",
    "ax.plot(x_values, post_a.pdf(x_values), color=plt.cm.Dark2(1), label='posterior of $p_A$')\n",
    "ax.fill_between(\n",
    "    x_values[np.logical_and(x_values>=post_credint_a[0], x_values<=post_credint_a[1])],\n",
    "    post_a.pdf(x_values[np.logical_and(x_values>=post_credint_a[0], x_values<=post_credint_a[1])]),\n",
    "    color=plt.cm.Dark2(1), alpha=0.2, label='$90$% credible interval of $p_A$'\n",
    ")\n",
    "ax.plot(x_values, post_b.pdf(x_values), color=plt.cm.Dark2(2), label='posterior of $p_B$')\n",
    "ax.fill_between(\n",
    "    x_values[np.logical_and(x_values>=post_credint_b[0], x_values<=post_credint_b[1])],\n",
    "    post_b.pdf(x_values[np.logical_and(x_values>=post_credint_b[0], x_values<=post_credint_b[1])]),\n",
    "    color=plt.cm.Dark2(2), alpha=0.2, label='$90$% credible interval of $p_B$'\n",
    ")\n",
    "ax.set_title('Prior and posterior distributions')\n",
    "ax.set(xlabel='success rate', ylabel='probability density', xlim=(0, 0.1))\n",
    "ax.set_ylim(bottom=0)\n",
    "ax.legend()\n",
    "ax.grid(visible=True, which='both', color='lightgray', linestyle='-')\n",
    "ax.set_axisbelow(True)\n",
    "fig.tight_layout()"
   ]
  },
  {
   "cell_type": "code",
   "execution_count": null,
   "metadata": {},
   "outputs": [],
   "source": [
    "# plot: joint posterior distribution (2D)\n",
    "x_values = np.linspace(0, 0.1, 1001)\n",
    "y_values = np.linspace(0, 0.1, 1001)\n",
    "X, Y = np.meshgrid(x_values, y_values)\n",
    "Z = post_a.pdf(X) * post_b.pdf(Y)\n",
    "\n",
    "fig, ax = plt.subplots()\n",
    "ax.contour(X, Y, Z, levels=5, colors='black', alpha=0.3)\n",
    "im = ax.imshow(Z, extent=(0, 0.1, 0, 0.1), origin='lower', cmap='viridis', interpolation='bilinear')\n",
    "ax.plot([0, 0.1], [0, 0.1], color='w', alpha=0.5)\n",
    "ax.text(0.01, 0.087, '$p_B > p_A$', fontdict=dict(size=15, color='w', alpha=0.8))\n",
    "ax.text(0.07, 0.01, '$p_B < p_A$', fontdict=dict(size=15, color='w', alpha=0.8))\n",
    "fig.colorbar(im)\n",
    "ax.set_title('Joint posterior distribution')\n",
    "ax.set(xlabel='success rate $p_A$', ylabel='success rate $p_B$')\n",
    "ax.set_axisbelow(True)\n",
    "fig.tight_layout()"
   ]
  },
  {
   "cell_type": "markdown",
   "metadata": {},
   "source": [
    "## Bayesian A/B testing"
   ]
  },
  {
   "cell_type": "code",
   "execution_count": null,
   "metadata": {},
   "outputs": [],
   "source": [
    "# posterior samples\n",
    "num_samples = int(1e06)\n",
    "\n",
    "post_samples_a = post_a.rvs(num_samples)\n",
    "post_samples_b = post_b.rvs(num_samples)"
   ]
  },
  {
   "cell_type": "code",
   "execution_count": null,
   "metadata": {},
   "outputs": [],
   "source": [
    "# posterior summaries\n",
    "post_prob_b_better = np.mean(post_samples_b > post_samples_a)\n",
    "post_expected_diff = post_b.mean() - post_a.mean()\n",
    "\n",
    "print('P(pB>pA) = {:.2f}%'.format(post_prob_b_better*100))\n",
    "print('E[pB-pA] = {:.4f}'.format(post_expected_diff))"
   ]
  },
  {
   "cell_type": "code",
   "execution_count": null,
   "metadata": {},
   "outputs": [],
   "source": [
    "# plot: posterior of the difference\n",
    "fig, ax = plt.subplots(figsize=(6, 4.2))\n",
    "_, _, hist = ax.hist(\n",
    "    post_samples_b - post_samples_a, bins=np.linspace(-0.03, 0.07, 51), density=True,\n",
    "    histtype='stepfilled', color=plt.cm.Dark2(7), alpha=0.7, zorder=1\n",
    ")\n",
    "line = ax.axvline(0, linestyle='--', color='k', zorder=2)\n",
    "mean = ax.scatter(post_expected_diff, 0, s=25, marker='o', color='k', clip_on=False, zorder=3)\n",
    "ax.set_title('Posterior distribution of the difference')\n",
    "ax.set(xlabel='$p_B - p_A$', ylabel='probability density', xlim=(-0.03, 0.07))\n",
    "ax.legend((hist[0], line, mean), ('$P(p_B - p_A)$', '$p_B = p_A$', '$\\mathbb{E}[p_B-p_A]$'))\n",
    "ax.grid(visible=True, which='both', color='lightgray', linestyle='-')\n",
    "ax.set_axisbelow(True)\n",
    "fig.tight_layout()"
   ]
  }
 ],
 "metadata": {
  "kernelspec": {
   "display_name": "Python 3 (ipykernel)",
   "language": "python",
   "name": "python3"
  },
  "language_info": {
   "codemirror_mode": {
    "name": "ipython",
    "version": 3
   },
   "file_extension": ".py",
   "mimetype": "text/x-python",
   "name": "python",
   "nbconvert_exporter": "python",
   "pygments_lexer": "ipython3",
   "version": "3.9.18"
  }
 },
 "nbformat": 4,
 "nbformat_minor": 4
}
